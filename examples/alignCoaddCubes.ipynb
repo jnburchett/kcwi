{
 "cells": [
  {
   "cell_type": "markdown",
   "metadata": {},
   "source": [
    "# Sample alignment and coaddition workflow for KCWI data cubes"
   ]
  },
  {
   "cell_type": "code",
   "execution_count": 3,
   "metadata": {
    "collapsed": true
   },
   "outputs": [],
   "source": [
    "%matplotlib inline\n",
    "import numpy as np\n",
    "from matplotlib import pyplot as plt\n",
    "import glob\n",
    "from astropy.io import fits\n",
    "from astropy.wcs import WCS\n",
    "from astropy.coordinates import SkyCoord\n",
    "from astropy import units as u\n",
    "from kcwi_jnb import transform\n",
    "from kcwi_jnb import combine\n",
    "from kcwi_jnb.cube import DataCube\n",
    "#from importlib import reload\n",
    "#reload(transform)\n",
    "\n"
   ]
  },
  {
   "cell_type": "markdown",
   "metadata": {},
   "source": [
    "## Grab lists of intensity and variance cubes"
   ]
  },
  {
   "cell_type": "code",
   "execution_count": 11,
   "metadata": {
    "collapsed": true
   },
   "outputs": [],
   "source": [
    "icubed = glob.glob('*icubed.fits')\n",
    "vcubed = glob.glob('*vcubed.fits')"
   ]
  },
  {
   "cell_type": "markdown",
   "metadata": {},
   "source": [
    "## Identify brightest pixel in white light image of each exposure and set coords equal across exposures\n",
    "### Creates directories for white light images and corrected cubes ('nb_off' and 'corrCubes' by default)"
   ]
  },
  {
   "cell_type": "code",
   "execution_count": 12,
   "metadata": {
    "collapsed": true
   },
   "outputs": [],
   "source": [
    "brightcoords = transform.white_light_offset(icubed,slicer='M',varcubelist=vcubed)"
   ]
  },
  {
   "cell_type": "markdown",
   "metadata": {},
   "source": [
    "## Project cubes aligned to brightest pixel in larger space\n",
    "### May not be necessary if observations were not dithered"
   ]
  },
  {
   "cell_type": "code",
   "execution_count": 13,
   "metadata": {
    "collapsed": true
   },
   "outputs": [],
   "source": [
    "icubed_corr =glob.glob('corrCubes/*icubed.fits')\n",
    "vcubed_corr =glob.glob('corrCubes/*vcubed.fits')\n",
    "cubestack,stackwcs = transform.align_cubes(icubed_corr,brightcoords)\n",
    "varstack,varstackwcs = transform.align_cubes(vcubed_corr,brightcoords)"
   ]
  },
  {
   "cell_type": "markdown",
   "metadata": {},
   "source": [
    "## Perform the coaddition using the weighted mean (inverse variance weights)"
   ]
  },
  {
   "cell_type": "code",
   "execution_count": 14,
   "metadata": {
    "collapsed": false
   },
   "outputs": [
    {
     "name": "stdout",
     "output_type": "stream",
     "text": [
      "133.01872\n",
      "133.2611\n",
      "131.86873\n",
      "129.35011\n",
      "129.32794\n",
      "124.89285\n"
     ]
    },
    {
     "data": {
      "text/plain": [
       "[<astropy.io.fits.hdu.image.PrimaryHDU object at 0x10c17c9d0>]"
      ]
     },
     "execution_count": 14,
     "metadata": {},
     "output_type": "execute_result"
    }
   ],
   "source": [
    "combine.weight_mean_coadd(cubestack,varstack,stackwcs,varstackwcs,outfile='corrCubes/weightedMean_coadd_flux.fits',\n",
    "                         outvarfile='corrCubes/weightedMean_coadd_variance.fits')"
   ]
  },
  {
   "cell_type": "markdown",
   "metadata": {},
   "source": [
    "## Coadd using a simple median\n",
    "### May be useful if some issue with the variance cubes"
   ]
  },
  {
   "cell_type": "code",
   "execution_count": 8,
   "metadata": {
    "collapsed": false
   },
   "outputs": [
    {
     "name": "stderr",
     "output_type": "stream",
     "text": [
      "/Users/jnburchett/.pyenv/versions/anaconda2-5.0.0/lib/python2.7/site-packages/numpy/lib/function_base.py:4033: RuntimeWarning: Invalid value encountered in median for 2283886 results\n",
      "  r = func(a, **kwargs)\n",
      "/Users/jnburchett/Dropbox/Code/linetools/linetools/spectra/xspectrum1d.py:253: UserWarning: No unit given to wavelength, assuming Angstroms.\n",
      "  warnings.warn(\"No unit given to wavelength, assuming Angstroms.\")\n"
     ]
    },
    {
     "data": {
      "text/plain": [
       "[<astropy.io.fits.hdu.image.PrimaryHDU object at 0x10c0e6fd0>]"
      ]
     },
     "execution_count": 8,
     "metadata": {},
     "output_type": "execute_result"
    }
   ],
   "source": [
    "combine.median_coadd(cubestack,stackwcs,outfile='corrCubes/median_coadd_flux.fits')"
   ]
  }
 ],
 "metadata": {
  "anaconda-cloud": {},
  "kernelspec": {
   "display_name": "Python [py3]",
   "language": "python",
   "name": "Python [py3]"
  },
  "language_info": {
   "codemirror_mode": {
    "name": "ipython",
    "version": 3
   },
   "file_extension": ".py",
   "mimetype": "text/x-python",
   "name": "python",
   "nbconvert_exporter": "python",
   "pygments_lexer": "ipython3",
   "version": "3.6.5"
  }
 },
 "nbformat": 4,
 "nbformat_minor": 2
}
